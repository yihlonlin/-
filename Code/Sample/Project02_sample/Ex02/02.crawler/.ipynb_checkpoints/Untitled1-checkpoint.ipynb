{
 "cells": [
  {
   "cell_type": "code",
   "execution_count": 2,
   "metadata": {},
   "outputs": [
    {
     "name": "stdout",
     "output_type": "stream",
     "text": [
      "Requirement already satisfied: pandas in c:\\python36\\lib\\site-packages (0.23.3)\n",
      "Requirement already satisfied: numpy>=1.9.0 in c:\\python36\\lib\\site-packages (from pandas) (1.16.1)\n",
      "Requirement already satisfied: pytz>=2011k in c:\\python36\\lib\\site-packages (from pandas) (2018.5)\n",
      "Requirement already satisfied: python-dateutil>=2.5.0 in c:\\python36\\lib\\site-packages (from pandas) (2.7.3)\n",
      "Requirement already satisfied: six>=1.5 in c:\\python36\\lib\\site-packages (from python-dateutil>=2.5.0->pandas) (1.10.0)\n"
     ]
    },
    {
     "name": "stderr",
     "output_type": "stream",
     "text": [
      "You are using pip version 19.0.3, however version 19.1.1 is available.\n",
      "You should consider upgrading via the 'python -m pip install --upgrade pip' command.\n"
     ]
    }
   ],
   "source": [
    "# 安裝\n",
    "! pip install pandas"
   ]
  },
  {
   "cell_type": "code",
   "execution_count": null,
   "metadata": {},
   "outputs": [],
   "source": [
    "import pandas as pd\n",
    "url = \"http://mops.twse.com.tw/server-java/t164sb01?step=1&CO_ID=1216&SYEAR=2017&SSEASON=1&REPORT_ID=C\"  ## 公開資訊觀測站的財報\n",
    "dfs = pd.read_html(url)  ## 回傳DataFrame類別的陣列\n",
    "df = dfs[1]\n",
    "print(df)\n",
    "# 簡單的操作pandas教學\n",
    "## 只查看前面五行\n",
    "print(df.head(5))\n",
    "## 查看所有的columns\n",
    "columns = df.columns\n",
    "print(columns)\n",
    "## 僅查看取特定column\n",
    "showColumns = [columns[0], columns[1]]\n",
    "print(df[showColumns].head())\n",
    "## 僅查看特定的row\n",
    "print(df.xs(5))  ##不可指派內容\n",
    "print(df.loc[5])  ##可指派內容\n",
    "## 存檔\n",
    "df.to_csv(\"{檔名}\", index=False)\n",
    "df.to_json(\"{檔名}\")"
   ]
  }
 ],
 "metadata": {
  "kernelspec": {
   "display_name": "Python 3",
   "language": "python",
   "name": "python3"
  },
  "language_info": {
   "codemirror_mode": {
    "name": "ipython",
    "version": 3
   },
   "file_extension": ".py",
   "mimetype": "text/x-python",
   "name": "python",
   "nbconvert_exporter": "python",
   "pygments_lexer": "ipython3",
   "version": "3.6.4"
  }
 },
 "nbformat": 4,
 "nbformat_minor": 2
}
