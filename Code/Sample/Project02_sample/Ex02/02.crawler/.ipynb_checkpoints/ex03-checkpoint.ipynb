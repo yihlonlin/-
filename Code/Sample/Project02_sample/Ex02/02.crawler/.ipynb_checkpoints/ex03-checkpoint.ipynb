{
 "cells": [
  {
   "cell_type": "code",
   "execution_count": 7,
   "metadata": {},
   "outputs": [
    {
     "name": "stderr",
     "output_type": "stream",
     "text": [
      "C:\\Python36\\lib\\site-packages\\bs4\\__init__.py:181: UserWarning: No parser was explicitly specified, so I'm using the best available HTML parser for this system (\"lxml\"). This usually isn't a problem, but if you run this code on another system, or in a different virtual environment, it may use a different parser and behave differently.\n",
      "\n",
      "The code that caused this warning is on line 193 of the file C:\\Python36\\lib\\runpy.py. To get rid of this warning, change code that looks like this:\n",
      "\n",
      " BeautifulSoup(YOUR_MARKUP})\n",
      "\n",
      "to this:\n",
      "\n",
      " BeautifulSoup(YOUR_MARKUP, \"lxml\")\n",
      "\n",
      "  markup_type=markup_type))\n"
     ]
    }
   ],
   "source": [
    "# 一、把取得的 html 純文字送給 BeautifulSoup，產生 BeautifulSoup 類別\n",
    "from bs4 import BeautifulSoup\n",
    "import requests\n",
    "re = requests.get(\"https://www.crummy.com/software/BeautifulSoup/bs4/doc/\")  \n",
    "#soup = BeautifulSoup(re.text)\n",
    "soup = BeautifulSoup(re.text, 'html.parser')"
   ]
  },
  {
   "cell_type": "code",
   "execution_count": null,
   "metadata": {},
   "outputs": [],
   "source": [
    "# 二、找到element\n",
    "## 透過tag名稱尋找元素(第一個，回傳一個元素類別)\n",
    "elem = soup.find('a')\n",
    "print(elem)\n",
    "print(\"----------------------------------\")\n",
    "## 透過tag名稱尋找元素(全部，回傳一個元素類別「陣列」)\n",
    "elems = soup.find_all('a')\n",
    "for elem in elems:\n",
    "    print(elem)\n",
    "print(\"----------------------------------\")\n",
    "## 透過selector尋找元素(回傳一個元素類別「陣列」)\n",
    "selector = \"#quick-start > h1\"\n",
    "elem = soup.select(selector)\n",
    "print(elem)\n",
    "print(\"----------------------------------\")\n",
    "# 三、取出element中的重要資訊\n",
    "## 取出element特定attribute的值\n",
    "elem = soup.find('a')\n",
    "print(elem)\n",
    "print(elem['href']) ##方法一\n",
    "print(elem.get('href'))  ##方法二\n",
    "print(\"----------------------------------\")\n",
    "## 取出一對tag間的文字\n",
    "selector = \"#quick-start > h1\"\n",
    "elem = soup.select(selector)\n",
    "print(elem[0])\n",
    "print(elem[0].text)\n",
    "print(\"----------------------------------\")\n",
    "## 取得整個網頁的所有文字)\n",
    "print(soup.get_text())\n",
    "print(\"----------------------------------\")"
   ]
  }
 ],
 "metadata": {
  "kernelspec": {
   "display_name": "Python 3",
   "language": "python",
   "name": "python3"
  },
  "language_info": {
   "codemirror_mode": {
    "name": "ipython",
    "version": 3
   },
   "file_extension": ".py",
   "mimetype": "text/x-python",
   "name": "python",
   "nbconvert_exporter": "python",
   "pygments_lexer": "ipython3",
   "version": "3.6.4"
  }
 },
 "nbformat": 4,
 "nbformat_minor": 2
}
